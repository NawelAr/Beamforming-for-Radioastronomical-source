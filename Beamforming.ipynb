{
 "cells": [
  {
   "cell_type": "markdown",
   "metadata": {},
   "source": [
    "# Beamforming first simulations"
   ]
  },
  {
   "cell_type": "code",
   "execution_count": 155,
   "metadata": {},
   "outputs": [],
   "source": [
    "import numpy as np\n",
    "from scipy import constants"
   ]
  },
  {
   "cell_type": "code",
   "execution_count": 156,
   "metadata": {},
   "outputs": [],
   "source": [
    "# Simulate 1D signals using Gaussian distribution\n",
    "# Let j be the number of antennas a uniform linear array and d the distance between them in m\n",
    "#j = 10\n",
    "d = 5 \n",
    "\n",
    "# Set short-term integration interval and frequence\n",
    "N = 100\n",
    "f0 = 1\n",
    "theta0 = np.deg2rad(45)\n",
    "\n",
    "# For now, we only consider a single source image, the source is considered static over tiùe and frequence\n",
    "# Simulate source signal as a Gaussien variable\n",
    "sigma = 1\n",
    "s = np.random.normal(0, sigma, N)"
   ]
  },
  {
   "cell_type": "code",
   "execution_count": 157,
   "metadata": {},
   "outputs": [],
   "source": [
    "# positions of the antennas and the source\n",
    "# are they necessary ?"
   ]
  },
  {
   "cell_type": "code",
   "execution_count": 158,
   "metadata": {},
   "outputs": [],
   "source": [
    "# Compute the steering vector\n",
    "\n",
    "# Speed of light\n",
    "c = constants.c\n",
    "wl = 10\n",
    "\n",
    "# Compute the geometrical delay tau \n",
    "# do not use the speed of light\n",
    "tau = d*np.sin(theta0)/wl\n",
    "# delay array\n",
    "J = np.arange(0,10)\n",
    "a = np.exp(-1j*2*np.pi*J*tau)"
   ]
  },
  {
   "cell_type": "code",
   "execution_count": 159,
   "metadata": {},
   "outputs": [
    {
     "data": {
      "text/plain": [
       "array([-1.69499574e+00,  5.14061734e-01, -2.00820518e+00, -4.70592948e-01,\n",
       "       -1.30015886e-01,  1.63393024e+00,  7.28818970e-01, -1.03130837e-01,\n",
       "       -1.02296180e+00,  7.05622593e-01,  7.66776485e-01,  1.61970816e+00,\n",
       "       -6.42046828e-02, -7.75254828e-02, -6.77535438e-01, -8.41059903e-01,\n",
       "        7.45411055e-01, -3.07566217e-01, -4.93058819e-01, -8.41197389e-01,\n",
       "        1.90668095e+00,  8.48913837e-02,  2.20370605e+00, -3.95519457e-02,\n",
       "       -1.06354995e+00,  2.44464972e-01,  5.36686628e-01, -7.19399597e-02,\n",
       "       -1.18270739e-01, -9.00117322e-01, -2.08774499e-01, -2.78607490e-01,\n",
       "        6.97148852e-01,  7.07987903e-02,  7.93989044e-01,  1.54331769e-01,\n",
       "        2.02118206e+00, -1.13534670e-01, -7.00385024e-01, -2.31728468e+00,\n",
       "        1.12963166e+00, -1.08363024e+00,  5.37331240e-01, -6.22969893e-01,\n",
       "       -6.08724028e-02,  4.68197292e-01, -3.46446418e-01, -1.01312249e+00,\n",
       "        9.80193941e-01, -1.65949299e+00,  2.98480749e-01, -3.73536007e-02,\n",
       "        1.13109865e-01,  4.06251702e-01, -8.18652742e-02, -1.04559063e-01,\n",
       "        2.64799489e-01, -1.03693153e-02, -3.91440845e-01,  2.97250489e-01,\n",
       "       -2.14783633e+00, -1.62145137e-01, -1.92679240e+00, -2.01468688e+00,\n",
       "       -2.48664781e-01, -4.16219597e-01, -8.04750292e-01,  1.14239215e+00,\n",
       "       -1.30086601e+00, -2.28259184e+00,  1.50223996e+00,  1.07000389e+00,\n",
       "        5.05351319e-01,  3.79483616e-02, -7.42549137e-01, -9.65710961e-01,\n",
       "       -2.03632156e+00,  1.79798279e+00,  6.97361527e-01,  4.04122363e-04,\n",
       "       -3.22555782e-01, -1.27952291e+00, -1.44739925e+00,  4.81701912e-01,\n",
       "        1.93832309e+00,  7.63440471e-01,  8.95260119e-01, -5.08825689e-01,\n",
       "        4.90713069e-02, -7.15182041e-01,  1.33954591e+00,  2.21103722e-01,\n",
       "        7.35332978e-01,  1.43328550e+00, -1.66527066e+00,  2.17039588e-01,\n",
       "        5.99287791e-01,  1.34536756e+00,  1.24963653e+00, -1.31491993e+00])"
      ]
     },
     "execution_count": 159,
     "metadata": {},
     "output_type": "execute_result"
    }
   ],
   "source": [
    "s"
   ]
  },
  {
   "cell_type": "code",
   "execution_count": 160,
   "metadata": {},
   "outputs": [],
   "source": [
    "s = s.reshape(1,-1)"
   ]
  },
  {
   "cell_type": "code",
   "execution_count": 161,
   "metadata": {},
   "outputs": [],
   "source": [
    "a = a.reshape(-1,1)"
   ]
  },
  {
   "cell_type": "code",
   "execution_count": 162,
   "metadata": {},
   "outputs": [],
   "source": [
    "# compute the received signal : Represent signal delay across array as a delay line\n",
    "n = np.random.normal(0,1,(10,100))\n",
    "x = a@s + n\n",
    "#x = x.reshape(-1,1)"
   ]
  },
  {
   "cell_type": "code",
   "execution_count": null,
   "metadata": {},
   "outputs": [],
   "source": []
  },
  {
   "cell_type": "code",
   "execution_count": 163,
   "metadata": {},
   "outputs": [
    {
     "data": {
      "text/plain": [
       "(10, 100)"
      ]
     },
     "execution_count": 163,
     "metadata": {},
     "output_type": "execute_result"
    }
   ],
   "source": [
    "np.conjugate(x).shape"
   ]
  },
  {
   "cell_type": "code",
   "execution_count": 164,
   "metadata": {},
   "outputs": [],
   "source": [
    "# Compute correlation matrix\n",
    "# expliciter la taille de x -> (10,1)\n",
    "R = x@np.conjugate(x.T)/N"
   ]
  },
  {
   "cell_type": "code",
   "execution_count": 165,
   "metadata": {},
   "outputs": [
    {
     "data": {
      "text/plain": [
       "(10, 10)"
      ]
     },
     "execution_count": 165,
     "metadata": {},
     "output_type": "execute_result"
    }
   ],
   "source": [
    "R.shape"
   ]
  },
  {
   "cell_type": "code",
   "execution_count": 166,
   "metadata": {},
   "outputs": [
    {
     "data": {
      "text/plain": [
       "array([[ 1.8143831 +0.j        , -0.85344401+0.78847272j,\n",
       "        -0.3527674 -0.95515565j,  0.97134772+0.36860257j,\n",
       "        -0.9307793 +0.50863059j,  0.1479307 -0.98475753j,\n",
       "         0.71792586+0.68430443j, -0.87040316+0.15579133j,\n",
       "         0.37543643-0.87303001j,  0.19946116+0.90179698j],\n",
       "       [-0.85344401-0.78847272j,  2.16021306+0.j        ,\n",
       "        -0.58738852+0.87742125j, -0.2704757 -1.05024491j,\n",
       "         0.93940224+0.36594314j, -0.98226899+0.50972598j,\n",
       "         0.21882106-1.06543331j,  0.68507866+0.64927683j,\n",
       "        -1.007965  +0.24086431j,  0.60271974-0.77240369j],\n",
       "       [-0.3527674 +0.95515565j, -0.58738852-0.87742125j,\n",
       "         1.97804563+0.j        , -0.70516066+0.86208134j,\n",
       "        -0.40637923-1.00931322j,  0.90198632+0.47836726j,\n",
       "        -0.8887508 +0.52916402j,  0.19741515-0.95990011j,\n",
       "         0.8379367 +0.67973458j, -0.9817062 -0.06784013j],\n",
       "       [ 0.97134772-0.36860257j, -0.2704757 +1.05024491j,\n",
       "        -0.70516066-0.86208134j,  2.00784566+0.j        ,\n",
       "        -0.5970579 +0.84856996j, -0.1011983 -1.07340464j,\n",
       "         1.17500498+0.41341415j, -0.798791  +0.51104388j,\n",
       "        -0.13540248-1.05027363j,  0.52561176+0.84010224j],\n",
       "       [-0.9307793 -0.50863059j,  0.93940224-0.36594314j,\n",
       "        -0.40637923+1.00931322j, -0.5970579 -0.84856996j,\n",
       "         1.94850245+0.j        , -0.69666352+0.78585786j,\n",
       "        -0.41282431-1.00489016j,  0.97103967+0.34653232j,\n",
       "        -0.86195569+0.5605651j ,  0.16254553-0.91680351j],\n",
       "       [ 0.1479307 +0.98475753j, -0.98226899-0.50972598j,\n",
       "         0.90198632-0.47836726j, -0.1011983 +1.07340464j,\n",
       "        -0.69666352-0.78585786j,  2.09218164+0.j        ,\n",
       "        -0.75704226+0.8882815j , -0.37229952-0.9116246j ,\n",
       "         0.87793451+0.26356414j, -0.91213243+0.38170123j],\n",
       "       [ 0.71792586-0.68430443j,  0.21882106+1.06543331j,\n",
       "        -0.8887508 -0.52916402j,  1.17500498-0.41341415j,\n",
       "        -0.41282431+1.00489016j, -0.75704226-0.8882815j ,\n",
       "         2.20355715+0.j        , -0.63974627+0.77401318j,\n",
       "        -0.44111284-0.9706496j ,  0.65805631+0.54820575j],\n",
       "       [-0.87040316-0.15579133j,  0.68507866-0.64927683j,\n",
       "         0.19741515+0.95990011j, -0.798791  -0.51104388j,\n",
       "         0.97103967-0.34653232j, -0.37229952+0.9116246j ,\n",
       "        -0.63974627-0.77401318j,  1.67092392+0.j        ,\n",
       "        -0.55726337+0.76649794j, -0.00419477-0.89521129j],\n",
       "       [ 0.37543643+0.87303001j, -1.007965  -0.24086431j,\n",
       "         0.8379367 -0.67973458j, -0.13540248+1.05027363j,\n",
       "        -0.86195569-0.5605651j ,  0.87793451-0.26356414j,\n",
       "        -0.44111284+0.9706496j , -0.55726337-0.76649794j,\n",
       "         1.87834858+0.j        , -0.80664798+0.57975486j],\n",
       "       [ 0.19946116-0.90179698j,  0.60271974+0.77240369j,\n",
       "        -0.9817062 +0.06784013j,  0.52561176-0.84010224j,\n",
       "         0.16254553+0.91680351j, -0.91213243-0.38170123j,\n",
       "         0.65805631-0.54820575j, -0.00419477+0.89521129j,\n",
       "        -0.80664798-0.57975486j,  1.77222582+0.j        ]])"
      ]
     },
     "execution_count": 166,
     "metadata": {},
     "output_type": "execute_result"
    }
   ],
   "source": [
    "R"
   ]
  },
  {
   "cell_type": "code",
   "execution_count": 172,
   "metadata": {},
   "outputs": [],
   "source": [
    "# Compute beamforming\n",
    "# theta varies between -pi and pi\n",
    "thetas = np.linspace(-180,180,100)\n",
    "thetas = np.deg2rad(thetas)\n",
    "\n",
    "beams = []\n",
    "for theta in thetas:\n",
    "    tau = d*np.sin(theta)/wl\n",
    "    w = np.exp(-1j*2*np.pi*J.T*tau)\n",
    "    B = np.conjugate(w.T)@R@w\n",
    "    beams.append(B)"
   ]
  },
  {
   "cell_type": "markdown",
   "metadata": {},
   "source": [
    "## Beam response plot\n",
    "Fix w and plot $|y[n]|$ as a function of signal arrival angle $\\theta$"
   ]
  },
  {
   "cell_type": "code",
   "execution_count": 168,
   "metadata": {},
   "outputs": [],
   "source": [
    "import matplotlib.pyplot as plt"
   ]
  },
  {
   "cell_type": "code",
   "execution_count": 173,
   "metadata": {},
   "outputs": [
    {
     "data": {
      "text/plain": [
       "[(7.9938927573730885-1.1379353930762386e-16j),\n",
       " (7.550921172051039+0j),\n",
       " (8.425160280179096-9.992007221626409e-16j),\n",
       " (9.36006097850239+2.220446049250313e-16j),\n",
       " (9.196201026208005-8.881784197001252e-16j),\n",
       " (9.671640175094204-2.220446049250313e-16j),\n",
       " (10.42625445974424+2.220446049250313e-16j),\n",
       " (9.904958894764754-7.771561172376096e-16j),\n",
       " (9.716060073274901+1.1102230246251565e-16j),\n",
       " (11.120328594543984+4.440892098500626e-16j),\n",
       " (11.96893869181779+4.440892098500626e-16j),\n",
       " (10.987223481853308-2.220446049250313e-16j),\n",
       " (10.12365002838429+6.661338147750939e-16j),\n",
       " (10.902187263705255+0j),\n",
       " (12.133820785525716+2.220446049250313e-16j),\n",
       " (12.140497031137734-4.440892098500626e-16j),\n",
       " (11.030014478802766+1.4432899320127035e-15j),\n",
       " (10.138241333223537+2.7755575615628914e-16j),\n",
       " (10.359663407477143+0j),\n",
       " (11.534871780166934+0j),\n",
       " (12.968707973098212-8.881784197001252e-16j),\n",
       " (14.099302794997527+0j),\n",
       " (14.748166107247432+0j),\n",
       " (15.015815193945382+4.440892098500626e-16j),\n",
       " (15.086155160043337-5.551115123125783e-16j),\n",
       " (15.092995092363813-2.1163626406917047e-16j),\n",
       " (15.065161426574809+0j),\n",
       " (14.918090677067578+4.440892098500626e-16j),\n",
       " (14.481803277558669+0j),\n",
       " (13.591883052714229+0j),\n",
       " (12.262994802425474+0j),\n",
       " (10.868278458900697+1.3322676295501878e-15j),\n",
       " (10.097942891850458-3.3306690738754696e-16j),\n",
       " (10.475824026610727-1.6653345369377348e-16j),\n",
       " (11.648727763437192-4.440892098500626e-16j),\n",
       " (12.331693172587851+1.3322676295501878e-15j),\n",
       " (11.594390311348905+0j),\n",
       " (10.329857351360937-4.440892098500626e-16j),\n",
       " (10.38236857884173-8.881784197001252e-16j),\n",
       " (11.633516775707257-8.881784197001252e-16j),\n",
       " (11.779509408607147+0j),\n",
       " (10.301342285803884-2.220446049250313e-16j),\n",
       " (9.604968828339452-4.440892098500626e-16j),\n",
       " (10.296004247616409+4.440892098500626e-16j),\n",
       " (10.161436301047079-6.661338147750939e-16j),\n",
       " (9.281549455415155+4.440892098500626e-16j),\n",
       " (9.325321648594802-7.771561172376096e-16j),\n",
       " (9.046795615708731-5.551115123125783e-16j),\n",
       " (7.8149360486253485-7.771561172376096e-16j),\n",
       " (7.6956917631867885-4.440892098500626e-16j),\n",
       " (8.121285252999327+0j),\n",
       " (7.921552799206118-1.1102230246251565e-16j),\n",
       " (9.006280269181737-3.608224830031759e-16j),\n",
       " (10.35616593273612+4.440892098500626e-16j),\n",
       " (9.59115826221505+1.5543122344752192e-15j),\n",
       " (10.223385985099611+0j),\n",
       " (13.216168566471106+2.220446049250313e-16j),\n",
       " (12.165155552130184-6.661338147750939e-16j),\n",
       " (10.17299759992362+1.3322676295501878e-15j),\n",
       " (24.131830530732742-4.440892098500626e-16j),\n",
       " (59.71464218049559-8.881784197001252e-16j),\n",
       " (97.02697438774989+4.6629367034256575e-15j),\n",
       " (110.62019099400969+2.6645352591003757e-15j),\n",
       " (94.60710507619952+8.881784197001252e-16j),\n",
       " (63.308973634911396-2.220446049250313e-15j),\n",
       " (34.56300705304099-1.7763568394002505e-15j),\n",
       " (17.236118496737323+1.6237011735142914e-15j),\n",
       " (10.706349994268393-9.992007221626409e-16j),\n",
       " (10.35333441140948+4.440892098500626e-16j),\n",
       " (12.065549911848642-8.881784197001252e-16j),\n",
       " (13.697069211397757+0j),\n",
       " (14.643574543905999-8.881784197001252e-16j),\n",
       " (15.018157419979625+4.440892098500626e-16j),\n",
       " (15.098052679617432-1.1102230246251565e-15j),\n",
       " (15.094319810406414-1.0408340855860843e-17j),\n",
       " (15.098065909121846+7.771561172376096e-16j),\n",
       " (15.079085021557413-6.661338147750939e-16j),\n",
       " (14.884920512108867+1.3322676295501878e-15j),\n",
       " (14.257359388718765+8.881784197001252e-16j),\n",
       " (12.95503717325746+0j),\n",
       " (11.131336350700286+8.881784197001252e-16j),\n",
       " (10.057294527462922-3.3306690738754696e-16j),\n",
       " (12.884691848302234+1.3322676295501878e-15j),\n",
       " (24.34541427065028+3.3306690738754696e-16j),\n",
       " (47.795063419570795+8.881784197001252e-16j),\n",
       " (79.62924586751942-1.7763568394002505e-15j),\n",
       " (105.72336704163894+0j),\n",
       " (107.76164457390567-6.661338147750939e-16j),\n",
       " (79.99339309290085-6.661338147750939e-16j),\n",
       " (39.96289574766932-1.7763568394002505e-15j),\n",
       " (14.196671878317943+3.3306690738754696e-16j),\n",
       " (10.34222821933379-1.27675647831893e-15j),\n",
       " (13.452898568746926+6.661338147750939e-16j),\n",
       " (11.786573680329862+4.440892098500626e-16j),\n",
       " (9.435829995121676+3.3306690738754696e-16j),\n",
       " (10.141944232777885+1.1102230246251565e-15j),\n",
       " (9.895606648968329-2.220446049250313e-16j),\n",
       " (8.228790713452456+7.771561172376096e-16j),\n",
       " (8.00681116459023+2.220446049250313e-16j),\n",
       " (7.993892757373091+7.799273540827178e-16j)]"
      ]
     },
     "execution_count": 173,
     "metadata": {},
     "output_type": "execute_result"
    }
   ],
   "source": [
    "beams"
   ]
  },
  {
   "cell_type": "code",
   "execution_count": 174,
   "metadata": {},
   "outputs": [
    {
     "data": {
      "text/plain": [
       "[<matplotlib.lines.Line2D at 0x1c8ad2ed400>]"
      ]
     },
     "execution_count": 174,
     "metadata": {},
     "output_type": "execute_result"
    },
    {
     "data": {
      "image/png": "[encoded data removed]",
      "text/plain": [
       "<Figure size 432x288 with 1 Axes>"
      ]
     },
     "metadata": {
      "needs_background": "light"
     },
     "output_type": "display_data"
    }
   ],
   "source": [
    "plt.plot(thetas, np.real(beams))"
   ]
  },
  {
   "cell_type": "code",
   "execution_count": 175,
   "metadata": {},
   "outputs": [
    {
     "data": {
      "text/plain": [
       "0.7853981633974483"
      ]
     },
     "execution_count": 175,
     "metadata": {},
     "output_type": "execute_result"
    }
   ],
   "source": [
    "theta0"
   ]
  },
  {
   "cell_type": "code",
   "execution_count": null,
   "metadata": {},
   "outputs": [],
   "source": []
  }
 ],
 "metadata": {
  "kernelspec": {
   "display_name": "Python 3.9.12 ('base')",
   "language": "python",
   "name": "python3"
  },
  "language_info": {
   "codemirror_mode": {
    "name": "ipython",
    "version": 3
   },
   "file_extension": ".py",
   "mimetype": "text/x-python",
   "name": "python",
   "nbconvert_exporter": "python",
   "pygments_lexer": "ipython3",
   "version": "3.9.12"
  },
  "orig_nbformat": 4,
  "vscode": {
   "interpreter": {
    "hash": "ad2bdc8ecc057115af97d19610ffacc2b4e99fae6737bb82f5d7fb13d2f2c186"
   }
  }
 },
 "nbformat": 4,
 "nbformat_minor": 2
}
