{
 "cells": [
  {
   "cell_type": "markdown",
   "metadata": {},
   "source": [
    "# Beamforming first simulations"
   ]
  },
  {
   "cell_type": "code",
   "execution_count": 6,
   "metadata": {},
   "outputs": [],
   "source": [
    "import numpy as np\n",
    "from scipy import constants"
   ]
  },
  {
   "cell_type": "code",
   "execution_count": 37,
   "metadata": {},
   "outputs": [],
   "source": [
    "# Simulate 1D signals using th Gaussian distribution\n",
    "# Let j be the number of antennas a uniform linear array and d the distance between them in m\n",
    "j = 10\n",
    "d = 5 \n",
    "theta = 2\n",
    "\n",
    "# Set short-term integration interval and frequence\n",
    "N = 1\n",
    "f0 = 1\n",
    "theta0 = 45\n",
    "\n",
    "# For now, we only consider a single source image, the source is considered static over tiùe and frequence\n",
    "# Simulate source signal as a Gaussien variable\n",
    "sigma = 1\n",
    "s = np.random.normal(0,sigma,N)"
   ]
  },
  {
   "cell_type": "code",
   "execution_count": 38,
   "metadata": {},
   "outputs": [],
   "source": [
    "# positions of the antennas and the source\n",
    "# are they necessary ?"
   ]
  },
  {
   "cell_type": "code",
   "execution_count": 39,
   "metadata": {},
   "outputs": [],
   "source": [
    "# Compute the steering vector\n",
    "\n",
    "# Speed of light\n",
    "c = constants.c\n",
    "# Compute the geometrical delay tau \n",
    "tau = d*np.sin(theta0)/c\n",
    "# delay array\n",
    "J = np.arange(0,10)\n",
    "a = np.exp(-j*2*np.pi*f0*J*tau)"
   ]
  },
  {
   "cell_type": "code",
   "execution_count": 75,
   "metadata": {},
   "outputs": [
    {
     "data": {
      "text/plain": [
       "array([1.22100952, 0.15601354, 3.91082903, 1.91615262, 0.71282238,\n",
       "       0.07893159, 1.95661777, 0.43377961, 0.1411212 , 2.22200483])"
      ]
     },
     "execution_count": 75,
     "metadata": {},
     "output_type": "execute_result"
    }
   ],
   "source": [
    "# compute the received signal : Represent signal delay across array as a delay line\n",
    "n = np.random.normal(0,1,10)\n",
    "x = s*a.T + n\n",
    "x"
   ]
  },
  {
   "cell_type": "code",
   "execution_count": 120,
   "metadata": {},
   "outputs": [],
   "source": [
    "# Compute correlation matrix\n",
    "R = x*x.T/N"
   ]
  },
  {
   "cell_type": "code",
   "execution_count": 118,
   "metadata": {},
   "outputs": [
    {
     "data": {
      "text/plain": [
       "29.969513535064053"
      ]
     },
     "execution_count": 118,
     "metadata": {},
     "output_type": "execute_result"
    }
   ],
   "source": [
    "R"
   ]
  },
  {
   "cell_type": "code",
   "execution_count": 119,
   "metadata": {},
   "outputs": [
    {
     "data": {
      "text/plain": [
       "29.969513535064053"
      ]
     },
     "execution_count": 119,
     "metadata": {},
     "output_type": "execute_result"
    }
   ],
   "source": [
    "np.matmul(x,x.T)"
   ]
  },
  {
   "cell_type": "code",
   "execution_count": 116,
   "metadata": {},
   "outputs": [
    {
     "data": {
      "text/plain": [
       "(10,)"
      ]
     },
     "execution_count": 116,
     "metadata": {},
     "output_type": "execute_result"
    }
   ],
   "source": [
    "R.shape"
   ]
  },
  {
   "cell_type": "code",
   "execution_count": 110,
   "metadata": {},
   "outputs": [
    {
     "data": {
      "text/plain": [
       "array([1.        , 0.99999911, 0.99999822, 0.99999732, 0.99999643,\n",
       "       0.99999554, 0.99999465, 0.99999376, 0.99999287, 0.99999197])"
      ]
     },
     "execution_count": 110,
     "metadata": {},
     "output_type": "execute_result"
    }
   ],
   "source": [
    "a"
   ]
  },
  {
   "cell_type": "code",
   "execution_count": 109,
   "metadata": {},
   "outputs": [
    {
     "data": {
      "text/plain": [
       "array([1.        , 0.99999911, 0.99999822, 0.99999732, 0.99999643,\n",
       "       0.99999554, 0.99999465, 0.99999376, 0.99999287, 0.99999197])"
      ]
     },
     "execution_count": 109,
     "metadata": {},
     "output_type": "execute_result"
    }
   ],
   "source": [
    "np.conjugate(a)"
   ]
  },
  {
   "cell_type": "code",
   "execution_count": 115,
   "metadata": {},
   "outputs": [
    {
     "data": {
      "text/plain": [
       "29.96931277522456"
      ]
     },
     "execution_count": 115,
     "metadata": {},
     "output_type": "execute_result"
    }
   ],
   "source": [
    "a*R@a"
   ]
  },
  {
   "cell_type": "code",
   "execution_count": 106,
   "metadata": {},
   "outputs": [],
   "source": [
    "# Compute beam \n",
    "# theta varies between -pi and pi\n",
    "thetas = np.linspace(-180,180,100)\n",
    "\n",
    "beams = []\n",
    "for theta in thetas:\n",
    "    tau = d*np.sin(theta)/c\n",
    "    w = np.exp(-j*2*np.pi*f0*J.T*tau)\n",
    "    B = w*R*w.T\n",
    "    beams.append(B)"
   ]
  },
  {
   "cell_type": "code",
   "execution_count": 105,
   "metadata": {},
   "outputs": [
    {
     "data": {
      "text/plain": [
       "array([-180,  -80,   20,  120])"
      ]
     },
     "execution_count": 105,
     "metadata": {},
     "output_type": "execute_result"
    }
   ],
   "source": [
    "thetas"
   ]
  },
  {
   "cell_type": "code",
   "execution_count": 103,
   "metadata": {},
   "outputs": [
    {
     "data": {
      "text/plain": [
       "[array([1.49086425e+00, 2.43401853e-02, 1.52945324e+01, 3.67162238e+00,\n",
       "        5.08112337e-01, 6.23014431e-03, 3.82831452e+00, 1.88162534e-01,\n",
       "        1.99149244e-02, 4.93723087e+00]),\n",
       " array([1.49086425e+00, 2.43401755e-02, 1.52945200e+01, 3.67161793e+00,\n",
       "        5.08111516e-01, 6.23013172e-03, 3.82830525e+00, 1.88162002e-01,\n",
       "        1.99148601e-02, 4.93721292e+00]),\n",
       " array([1.49086425e+00, 2.43401796e-02, 1.52945252e+01, 3.67161980e+00,\n",
       "        5.08111861e-01, 6.23013701e-03, 3.82830914e+00, 1.88162226e-01,\n",
       "        1.99148871e-02, 4.93722046e+00]),\n",
       " array([1.49086425e+00, 2.43401966e-02, 1.52945465e+01, 3.67162747e+00,\n",
       "        5.08113276e-01, 6.23015871e-03, 3.82832514e+00, 1.88163143e-01,\n",
       "        1.99149981e-02, 4.93725141e+00])]"
      ]
     },
     "execution_count": 103,
     "metadata": {},
     "output_type": "execute_result"
    }
   ],
   "source": [
    "beams"
   ]
  },
  {
   "cell_type": "markdown",
   "metadata": {},
   "source": [
    "## Beam response plot\n",
    "Fix w and plot $|y[n]|$ as a function of signal arrival angle $\\theta$"
   ]
  },
  {
   "cell_type": "code",
   "execution_count": 81,
   "metadata": {},
   "outputs": [],
   "source": [
    "import matplotlib.pyplot as plt"
   ]
  },
  {
   "cell_type": "code",
   "execution_count": 107,
   "metadata": {},
   "outputs": [
    {
     "data": {
      "text/plain": [
       "[<matplotlib.lines.Line2D at 0x26588685910>,\n",
       " <matplotlib.lines.Line2D at 0x26588685970>,\n",
       " <matplotlib.lines.Line2D at 0x26588685a90>,\n",
       " <matplotlib.lines.Line2D at 0x26588685bb0>,\n",
       " <matplotlib.lines.Line2D at 0x26588685cd0>,\n",
       " <matplotlib.lines.Line2D at 0x26588685df0>,\n",
       " <matplotlib.lines.Line2D at 0x26588685f10>,\n",
       " <matplotlib.lines.Line2D at 0x2658868e070>,\n",
       " <matplotlib.lines.Line2D at 0x2658868e190>,\n",
       " <matplotlib.lines.Line2D at 0x2658868e2b0>]"
      ]
     },
     "execution_count": 107,
     "metadata": {},
     "output_type": "execute_result"
    },
    {
     "data": {
      "image/png": "[encoded data removed]",
      "text/plain": [
       "<Figure size 432x288 with 1 Axes>"
      ]
     },
     "metadata": {
      "needs_background": "light"
     },
     "output_type": "display_data"
    }
   ],
   "source": [
    "plt.plot(thetas, beams)"
   ]
  },
  {
   "cell_type": "code",
   "execution_count": null,
   "metadata": {},
   "outputs": [],
   "source": [
    "bea"
   ]
  },
  {
   "cell_type": "code",
   "execution_count": null,
   "metadata": {},
   "outputs": [],
   "source": []
  }
 ],
 "metadata": {
  "kernelspec": {
   "display_name": "Python 3.9.12 ('base')",
   "language": "python",
   "name": "python3"
  },
  "language_info": {
   "codemirror_mode": {
    "name": "ipython",
    "version": 3
   },
   "file_extension": ".py",
   "mimetype": "text/x-python",
   "name": "python",
   "nbconvert_exporter": "python",
   "pygments_lexer": "ipython3",
   "version": "3.9.12"
  },
  "orig_nbformat": 4,
  "vscode": {
   "interpreter": {
    "hash": "ad2bdc8ecc057115af97d19610ffacc2b4e99fae6737bb82f5d7fb13d2f2c186"
   }
  }
 },
 "nbformat": 4,
 "nbformat_minor": 2
}
